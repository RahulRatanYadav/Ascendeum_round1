{
 "cells": [
  {
   "cell_type": "code",
   "execution_count": 5,
   "id": "31fd9fdc-5d6d-4e1c-8895-f4ddf5a02f78",
   "metadata": {},
   "outputs": [],
   "source": [
    "import numpy as np\n",
    "def spiral_mat(n):\n",
    "    matrix = [[0] * n for i in range(n)]\n",
    "    left, right, top, bottom = 0,n-1,0,n-1\n",
    "    num = 1\n",
    "    while num <= n*n:\n",
    "        for i in range(left,right + 1):\n",
    "            matrix[top][i] = num\n",
    "            num += 1\n",
    "        top += 1\n",
    "        for i in range(top,bottom + 1):\n",
    "            matrix[i][right] = num\n",
    "            num += 1\n",
    "        right -= 1\n",
    "        for i in range(right,left - 1,-1):\n",
    "            matrix[bottom][i] = num\n",
    "            num += 1\n",
    "        bottom -= 1\n",
    "        for i in range(bottom,top - 1, -1):\n",
    "            matrix[i][left] = num\n",
    "            num += 1\n",
    "        left += 1\n",
    "    return matrix\n"
   ]
  },
  {
   "cell_type": "code",
   "execution_count": 15,
   "id": "4cfcfcad-0bf7-44ca-bafc-b7d07008bae0",
   "metadata": {},
   "outputs": [
    {
     "data": {
      "text/plain": [
       "[[1, 2, 3, 4], [12, 13, 14, 5], [11, 16, 15, 6], [10, 9, 8, 7]]"
      ]
     },
     "execution_count": 15,
     "metadata": {},
     "output_type": "execute_result"
    }
   ],
   "source": [
    "spiral_mat(4)"
   ]
  },
  {
   "cell_type": "code",
   "execution_count": 19,
   "id": "cebac7b4-0dea-4483-b1bf-ed40c4b433d7",
   "metadata": {},
   "outputs": [
    {
     "name": "stdout",
     "output_type": "stream",
     "text": [
      "[1, 2, 3, 4, 5]\n",
      "[16, 17, 18, 19, 6]\n",
      "[15, 24, 25, 20, 7]\n",
      "[14, 23, 22, 21, 8]\n",
      "[13, 12, 11, 10, 9]\n"
     ]
    }
   ],
   "source": [
    "n = 5\n",
    "result = spiral_mat(n)\n",
    "for row in result:\n",
    "    print(row)"
   ]
  },
  {
   "cell_type": "code",
   "execution_count": null,
   "id": "33c61c4c-6e0d-42cd-9ca0-1b0a8f3f226d",
   "metadata": {},
   "outputs": [],
   "source": []
  }
 ],
 "metadata": {
  "kernelspec": {
   "display_name": "Python 3 (ipykernel)",
   "language": "python",
   "name": "python3"
  },
  "language_info": {
   "codemirror_mode": {
    "name": "ipython",
    "version": 3
   },
   "file_extension": ".py",
   "mimetype": "text/x-python",
   "name": "python",
   "nbconvert_exporter": "python",
   "pygments_lexer": "ipython3",
   "version": "3.12.4"
  }
 },
 "nbformat": 4,
 "nbformat_minor": 5
}
